{
 "cells": [
  {
   "attachments": {},
   "cell_type": "markdown",
   "metadata": {},
   "source": [
    "# 3d galaxy (--volume-prior) volume prior visualization\n",
    "This is some code to check that the 3d volumetric galaxy prior looks sane. To use it, run gb_mcmc with --galaxy-prior and --verbose. It will output 3dgalaxyprior.dat to its working directory.\n",
    "This code imports that file and makes some histograms of the prior itself."
   ]
  },
  {
   "cell_type": "code",
   "execution_count": null,
   "metadata": {},
   "outputs": [],
   "source": [
    "import numpy as np\n",
    "a = np.loadtxt(\"/home/mtauraso/src/ldasoft/rundir19/3dgalaxyprior.dat\", \n",
    "               [('x', 'double'), ('y', 'double'), ('z', 'double'), ('logp', 'double')])\n",
    "\n",
    "print(a['z'])\n",
    "print(len(a))\n",
    "print(a['logp'])"
   ]
  },
  {
   "cell_type": "code",
   "execution_count": null,
   "metadata": {},
   "outputs": [],
   "source": [
    "import matplotlib.pyplot as plt\n",
    "\n",
    "\n",
    "def galaxyslice(a, plane, min, max):\n",
    "    mask = np.logical_or(np.greater(a[plane], max), np.less(a[plane], min))\n",
    "    planes = [\"x\", \"y\", \"z\"]\n",
    "    planes.remove(plane)\n",
    "\n",
    "    ax = np.ma.masked_array(a[planes[0]], mask=mask).compressed()\n",
    "    ay = np.ma.masked_array(a[planes[1]], mask=mask).compressed()\n",
    "    ap = np.ma.masked_array(a['logp'], mask=mask).compressed()\n",
    "    _,_,_,_ = plt.hist2d(ax, ay, weights=np.exp(ap), bins=(200,200))\n",
    "    plt.show()\n",
    "\n",
    "\n",
    "galaxyslice(a,\"z\", -1, 1)\n",
    "galaxyslice(a,\"x\", -1, 1)\n",
    "galaxyslice(a,\"y\", -1, 1)\n"
   ]
  }
 ],
 "metadata": {
  "kernelspec": {
   "display_name": "Python 3",
   "language": "python",
   "name": "python3"
  },
  "language_info": {
   "name": "python",
   "version": "3.11.3"
  },
  "orig_nbformat": 4
 },
 "nbformat": 4,
 "nbformat_minor": 2
}
